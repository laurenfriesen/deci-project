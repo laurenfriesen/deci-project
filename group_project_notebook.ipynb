{
 "cells": [
  {
   "cell_type": "markdown",
   "id": "0863a8b6-9ddd-4720-b80f-398f7fb75f4f",
   "metadata": {},
   "source": [
    "# Predicting Player's Data Contibutions Based on their Experience #"
   ]
  },
  {
   "cell_type": "markdown",
   "id": "241769ac-4e51-44f2-8d43-b5ba8685eb94",
   "metadata": {},
   "source": [
    "*Skye Fort, Lauren Frieson, Taylor Jackson & Sam Thompson*"
   ]
  },
  {
   "cell_type": "markdown",
   "id": "2b6f66a7-a6bd-40ef-a5d6-4c037db75439",
   "metadata": {},
   "source": [
    "## Introduction ##"
   ]
  },
  {
   "cell_type": "markdown",
   "id": "9347acce-fc9c-4a7f-915e-ed7a6623bbbb",
   "metadata": {},
   "source": [
    "## Method ##"
   ]
  },
  {
   "cell_type": "code",
   "execution_count": null,
   "id": "7dbe5402-431e-40bd-9b3f-538c954e6cb5",
   "metadata": {},
   "outputs": [],
   "source": []
  }
 ],
 "metadata": {
  "kernelspec": {
   "display_name": "R",
   "language": "R",
   "name": "ir"
  },
  "language_info": {
   "codemirror_mode": "r",
   "file_extension": ".r",
   "mimetype": "text/x-r-source",
   "name": "R",
   "pygments_lexer": "r",
   "version": "4.3.3"
  }
 },
 "nbformat": 4,
 "nbformat_minor": 5
}
