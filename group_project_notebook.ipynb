{
 "cells": [
  {
   "cell_type": "markdown",
   "id": "2b6f66a7-a6bd-40ef-a5d6-4c037db75439",
   "metadata": {},
   "source": [
    "**INTRODUCTION**"
   ]
  },
  {
   "cell_type": "code",
   "execution_count": null,
   "id": "4400880e-1f4e-4fc8-8a75-5f4dae8336f2",
   "metadata": {},
   "outputs": [],
   "source": []
  }
 ],
 "metadata": {
  "kernelspec": {
   "display_name": "R",
   "language": "R",
   "name": "ir"
  },
  "language_info": {
   "codemirror_mode": "r",
   "file_extension": ".r",
   "mimetype": "text/x-r-source",
   "name": "R",
   "pygments_lexer": "r",
   "version": "4.3.3"
  }
 },
 "nbformat": 4,
 "nbformat_minor": 5
}
