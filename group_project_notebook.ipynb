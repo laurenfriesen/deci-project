{
 "cells": [
  {
   "cell_type": "markdown",
   "id": "2b6f66a7-a6bd-40ef-a5d6-4c037db75439",
   "metadata": {},
   "source": [
    "**INTRODUCTION**"
   ]
  },
  {
   "cell_type": "markdown",
   "id": "9347acce-fc9c-4a7f-915e-ed7a6623bbbb",
   "metadata": {},
   "source": [
    "**METHOD**"
   ]
  },
  {
   "cell_type": "code",
   "execution_count": null,
   "id": "c84fd1f8-8e9c-4fcd-a42e-52e79833e801",
   "metadata": {},
   "outputs": [],
   "source": []
  }
 ],
 "metadata": {
  "kernelspec": {
   "display_name": "R",
   "language": "R",
   "name": "ir"
  },
  "language_info": {
   "codemirror_mode": "r",
   "file_extension": ".r",
   "mimetype": "text/x-r-source",
   "name": "R",
   "pygments_lexer": "r",
   "version": "4.3.3"
  }
 },
 "nbformat": 4,
 "nbformat_minor": 5
}
